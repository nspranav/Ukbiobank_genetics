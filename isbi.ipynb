{
 "cells": [
  {
   "cell_type": "code",
   "execution_count": 1,
   "metadata": {},
   "outputs": [],
   "source": [
    "import numpy as np"
   ]
  },
  {
   "cell_type": "code",
   "execution_count": 8,
   "metadata": {},
   "outputs": [
    {
     "name": "stdout",
     "output_type": "stream",
     "text": [
      "82.64250000000001 82.2525 82.14\n",
      "0.5830683922148414 1.3732147501392464 0.9507628516091676\n"
     ]
    }
   ],
   "source": [
    "# Epoch 10,9,7, 9,   \n",
    "train = [83.65,82.26,82.37, 82.29, 82.28]\n",
    "valid = [83.13,79.92,83.35, 82.61, ]\n",
    "test = [82.59, 80.62,83.19, 82.16]\n",
    "\n",
    "print(np.mean(train),np.mean(valid),np.mean(test))\n",
    "print(np.std(train),np.std(valid),np.std(test))\n"
   ]
  },
  {
   "cell_type": "code",
   "execution_count": 2,
   "metadata": {},
   "outputs": [
    {
     "name": "stdout",
     "output_type": "stream",
     "text": [
      "87.47999999999999 87.082 87.022\n",
      "0.45506043554675046 0.8085394238996635 0.6781563241613247\n"
     ]
    }
   ],
   "source": [
    "#3826211 epoch: 21\n",
    "\n",
    "train = [87.89,87.91,87.26,87.64,86.70]\n",
    "valid = [86.39,87.98,87.65,87.52, 85.87]\n",
    "test = [86.91, 87.59,87.97,86.52, 86.12]\n",
    "print(np.mean(train),np.mean(valid),np.mean(test))\n",
    "print(np.std(train),np.std(valid),np.std(test))"
   ]
  },
  {
   "cell_type": "code",
   "execution_count": null,
   "metadata": {},
   "outputs": [],
   "source": []
  }
 ],
 "metadata": {
  "kernelspec": {
   "display_name": "workinglatest",
   "language": "python",
   "name": "python3"
  },
  "language_info": {
   "codemirror_mode": {
    "name": "ipython",
    "version": 3
   },
   "file_extension": ".py",
   "mimetype": "text/x-python",
   "name": "python",
   "nbconvert_exporter": "python",
   "pygments_lexer": "ipython3",
   "version": "3.9.18"
  }
 },
 "nbformat": 4,
 "nbformat_minor": 2
}
