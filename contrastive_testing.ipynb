{
 "cells": [
  {
   "cell_type": "code",
   "execution_count": 1,
   "metadata": {},
   "outputs": [],
   "source": [
    "import numpy as np"
   ]
  },
  {
   "cell_type": "code",
   "execution_count": 3,
   "metadata": {},
   "outputs": [],
   "source": [
    "train_l2_l3 = [90.28, 91.09, 90.02,90.23,90.66]\n",
    "valid_l2_l3 = [89.15, 86.86, 88.64,87.65,87.16]\n",
    "test_l2_l3 = [89.62, 89.32, 90.25, 89.49,89.62]"
   ]
  },
  {
   "cell_type": "code",
   "execution_count": 5,
   "metadata": {},
   "outputs": [
    {
     "name": "stdout",
     "output_type": "stream",
     "text": [
      "90.45599999999999 0.37834375903403095\n",
      "87.89199999999998 0.8719495398244119\n",
      "89.66 0.31489680849446716\n"
     ]
    }
   ],
   "source": [
    "print(np.mean(train_l2_l3),np.std(train_l2_l3))\n",
    "print(np.mean(valid_l2_l3),np.std(valid_l2_l3))\n",
    "print(np.mean(test_l2_l3),np.std(test_l2_l3))"
   ]
  },
  {
   "cell_type": "code",
   "execution_count": 6,
   "metadata": {},
   "outputs": [],
   "source": [
    "train_l1 = [90.35, 91.01, 89.93, 89.96, 88.55]\n",
    "valid_l1 = [88.45, 86.61, 89.65, 89.61, 88.47]\n",
    "test_l1 = [88.03, 88.09, 88.88, 88.42, 88.13]"
   ]
  },
  {
   "cell_type": "code",
   "execution_count": 7,
   "metadata": {},
   "outputs": [
    {
     "name": "stdout",
     "output_type": "stream",
     "text": [
      "89.96000000000001 0.8054315613383938\n",
      "88.55800000000002 1.105737762762945\n",
      "88.31 0.31502380862404505\n"
     ]
    }
   ],
   "source": [
    "print(np.mean(train_l1),np.std(train_l1))\n",
    "print(np.mean(valid_l1),np.std(valid_l1))\n",
    "print(np.mean(test_l1),np.std(test_l1))"
   ]
  },
  {
   "cell_type": "code",
   "execution_count": 2,
   "metadata": {},
   "outputs": [],
   "source": [
    "train_l1234 = [90.34,89.43,88.62,90.74,89.92]\n",
    "valid_1234 = [88.11,87.38,88.95,90.01,87.45]\n",
    "test_1234 = [89.39,88.62,88.95,88.45,87.68]"
   ]
  },
  {
   "cell_type": "code",
   "execution_count": 3,
   "metadata": {},
   "outputs": [
    {
     "name": "stdout",
     "output_type": "stream",
     "text": [
      "89.81 0.7373465942146852\n",
      "88.38 0.9919274166994301\n",
      "88.618 0.5682041886505218\n"
     ]
    }
   ],
   "source": [
    "print(np.mean(train_l1234),np.std(train_l1234))\n",
    "print(np.mean(valid_1234),np.std(valid_1234))\n",
    "print(np.mean(test_1234),np.std(test_1234))"
   ]
  },
  {
   "cell_type": "code",
   "execution_count": 5,
   "metadata": {},
   "outputs": [],
   "source": [
    "train_l12 = [90.24,88.05,88.25,90.49,87.91]\n",
    "valid_l12 =  [88.56,86.88,88.56,89.83,86.35]\n",
    "test_l12 =   [88.19,86.55,88.47,88.88,86.73]"
   ]
  },
  {
   "cell_type": "code",
   "execution_count": 6,
   "metadata": {},
   "outputs": [
    {
     "name": "stdout",
     "output_type": "stream",
     "text": [
      "88.98799999999999 1.1322614539054119\n",
      "88.03599999999999 1.260676009131611\n",
      "87.76400000000001 0.9453380347790926\n"
     ]
    }
   ],
   "source": [
    "print(np.mean(train_l12),np.std(train_l12))\n",
    "print(np.mean(valid_l12),np.std(valid_l12))\n",
    "print(np.mean(test_l12),np.std(test_l12))"
   ]
  },
  {
   "cell_type": "code",
   "execution_count": 7,
   "metadata": {},
   "outputs": [],
   "source": [
    "train_l123 =  [90.29,87.95,90.34,90.44,88.99]\n",
    "valid_l123 =  [89.37,86.87,88.34,89.33,87.22]\n",
    "test_l123 =   [87.79,87.84,88.55,88.12,88.61]"
   ]
  },
  {
   "cell_type": "code",
   "execution_count": 8,
   "metadata": {},
   "outputs": [
    {
     "name": "stdout",
     "output_type": "stream",
     "text": [
      "89.602 0.9822301156042821\n",
      "88.226 1.0383949152417877\n",
      "88.182 0.34440673628719565\n"
     ]
    }
   ],
   "source": [
    "print(np.mean(train_l123),np.std(train_l123))\n",
    "print(np.mean(valid_l123),np.std(valid_l123))\n",
    "print(np.mean(test_l123),np.std(test_l123))"
   ]
  },
  {
   "cell_type": "code",
   "execution_count": 2,
   "metadata": {},
   "outputs": [],
   "source": [
    "train_l2 =  [90.44,90.85,88.75,90.46,88.59]\n",
    "valid_l2 =  [88.28,86.45,88.92,88.75,87.45]\n",
    "test_l2 =   [87.64,87.65,87.73,87.37,87.17]"
   ]
  },
  {
   "cell_type": "code",
   "execution_count": 3,
   "metadata": {},
   "outputs": [
    {
     "name": "stdout",
     "output_type": "stream",
     "text": [
      "89.81799999999998 0.9500189471794728\n",
      "87.97 0.9151830418009276\n",
      "87.51200000000001 0.20979990467109416\n"
     ]
    }
   ],
   "source": [
    "print(np.mean(train_l2),np.std(train_l2))\n",
    "print(np.mean(valid_l2),np.std(valid_l2))\n",
    "print(np.mean(test_l2),np.std(test_l2))"
   ]
  },
  {
   "cell_type": "code",
   "execution_count": 4,
   "metadata": {},
   "outputs": [],
   "source": [
    "train_l3 =  [89.07,89.37,89.78,89.15,87.59]\n",
    "valid_l3 =  [86.53,86.15,88.83,89.89,85.87]\n",
    "test_l3  =  [86.72,86.78,86.31,87.38,86.81]"
   ]
  },
  {
   "cell_type": "code",
   "execution_count": 5,
   "metadata": {},
   "outputs": [
    {
     "name": "stdout",
     "output_type": "stream",
     "text": [
      "88.992 0.74303162785981\n",
      "87.454 1.6056599889142138\n",
      "86.8 0.34158454297581814\n"
     ]
    }
   ],
   "source": [
    "print(np.mean(train_l3),np.std(train_l3))\n",
    "print(np.mean(valid_l3),np.std(valid_l3))\n",
    "print(np.mean(test_l3),np.std(test_l3))"
   ]
  },
  {
   "cell_type": "code",
   "execution_count": 6,
   "metadata": {},
   "outputs": [],
   "source": [
    "train_l4 =  [90.66,90.88,90.15,90.09,88.39]\n",
    "valid_l4 =  [87.93,86.96,88.55,89.18,87.62]\n",
    "test_l4  =  [87.42,87.91,88.67,88.31,88.19]"
   ]
  },
  {
   "cell_type": "code",
   "execution_count": 7,
   "metadata": {},
   "outputs": [
    {
     "name": "stdout",
     "output_type": "stream",
     "text": [
      "90.03399999999999 0.8748622748753072\n",
      "88.048 0.7634500638548694\n",
      "88.1 0.41847341612102473\n"
     ]
    }
   ],
   "source": [
    "print(np.mean(train_l4),np.std(train_l4))\n",
    "print(np.mean(valid_l4),np.std(valid_l4))\n",
    "print(np.mean(test_l4),np.std(test_l4))"
   ]
  },
  {
   "cell_type": "code",
   "execution_count": 9,
   "metadata": {},
   "outputs": [],
   "source": [
    "train_l13 =  [90.75,91.21,88.94,88.37,91.19]\n",
    "valid_l13 =  [88.79,86.99,88.94,89.09,86.89]\n",
    "test_l13  =  [88.65,87.18,87.70,89.09,88.35]"
   ]
  },
  {
   "cell_type": "code",
   "execution_count": 10,
   "metadata": {},
   "outputs": [
    {
     "name": "stdout",
     "output_type": "stream",
     "text": [
      "90.092 1.1984056074635139\n",
      "88.14000000000001 0.9848857801796126\n",
      "88.194 0.6793114160677697\n"
     ]
    }
   ],
   "source": [
    "print(np.mean(train_l13),np.std(train_l13))\n",
    "print(np.mean(valid_l13),np.std(valid_l13))\n",
    "print(np.mean(test_l13),np.std(test_l13))"
   ]
  },
  {
   "cell_type": "code",
   "execution_count": 2,
   "metadata": {},
   "outputs": [],
   "source": [
    "train_l14 =  [90.89,90.09,88.81,87.91,91.05]\n",
    "valid_l14 =  [88.29,87.11,89.82,89.82,87.80]\n",
    "test_l14  =  [88.01,89.08,88.12,87.94,88.33]"
   ]
  },
  {
   "cell_type": "code",
   "execution_count": 3,
   "metadata": {},
   "outputs": [
    {
     "name": "stdout",
     "output_type": "stream",
     "text": [
      "89.75000000000001 1.2144463759260846\n",
      "88.56800000000001 1.0888415862741436\n",
      "88.296 0.41359883945678433\n"
     ]
    }
   ],
   "source": [
    "print(np.mean(train_l14),np.std(train_l14))\n",
    "print(np.mean(valid_l14),np.std(valid_l14))\n",
    "print(np.mean(test_l14),np.std(test_l14))"
   ]
  },
  {
   "cell_type": "code",
   "execution_count": 2,
   "metadata": {},
   "outputs": [],
   "source": [
    "train_l24 =  [90.82,91.33,89.57,91.35,89.39]\n",
    "valid_l24 =  [88.29,86.84,89.49,89.98,86.78]\n",
    "test_l24  =  [88.88,88.45,88.85,87.41,86.78]"
   ]
  },
  {
   "cell_type": "code",
   "execution_count": 3,
   "metadata": {},
   "outputs": [
    {
     "name": "stdout",
     "output_type": "stream",
     "text": [
      "90.49199999999999 0.8497623197106348\n",
      "88.276 1.3174004706238713\n",
      "88.07399999999998 0.8376777423329317\n"
     ]
    }
   ],
   "source": [
    "print(np.mean(train_l24),np.std(train_l24))\n",
    "print(np.mean(valid_l24),np.std(valid_l24))\n",
    "print(np.mean(test_l24),np.std(test_l24))"
   ]
  },
  {
   "cell_type": "code",
   "execution_count": 4,
   "metadata": {},
   "outputs": [],
   "source": [
    "train_l34 =  [91.01,90.83,88.44,87.85,86.63]\n",
    "valid_l34 =  [87.53,87.42,88.43,89.43,87.02]\n",
    "test_l34  =  [88.19,88.12,87.96,87.23,87.22]"
   ]
  },
  {
   "cell_type": "code",
   "execution_count": 5,
   "metadata": {},
   "outputs": [
    {
     "name": "stdout",
     "output_type": "stream",
     "text": [
      "88.952 1.710583526168778\n",
      "87.966 0.8650687833923996\n",
      "87.744 0.43028362739011944\n"
     ]
    }
   ],
   "source": [
    "print(np.mean(train_l34),np.std(train_l34))\n",
    "print(np.mean(valid_l34),np.std(valid_l34))\n",
    "print(np.mean(test_l34),np.std(test_l34))"
   ]
  },
  {
   "cell_type": "code",
   "execution_count": 4,
   "metadata": {},
   "outputs": [],
   "source": [
    "train_l234 =  [90.54,91.27,88.34,90.76,89.14]\n",
    "valid_l234 =  [87.96,86.89,88.52,89.87,87.48]\n",
    "test_l234 =   [87.90,88.23,87.98,87.25,87.59]"
   ]
  },
  {
   "cell_type": "code",
   "execution_count": 6,
   "metadata": {},
   "outputs": [
    {
     "name": "stdout",
     "output_type": "stream",
     "text": [
      "90.00999999999999 1.0933252032218037\n",
      "88.144 1.016633660666418\n",
      "87.79 0.33864435622050604\n"
     ]
    }
   ],
   "source": [
    "print(np.mean(train_l234),np.std(train_l234))\n",
    "print(np.mean(valid_l234),np.std(valid_l234))\n",
    "print(np.mean(test_l234),np.std(test_l234))"
   ]
  },
  {
   "cell_type": "code",
   "execution_count": null,
   "metadata": {},
   "outputs": [],
   "source": []
  }
 ],
 "metadata": {
  "kernelspec": {
   "display_name": "latest3",
   "language": "python",
   "name": "python3"
  },
  "language_info": {
   "codemirror_mode": {
    "name": "ipython",
    "version": 3
   },
   "file_extension": ".py",
   "mimetype": "text/x-python",
   "name": "python",
   "nbconvert_exporter": "python",
   "pygments_lexer": "ipython3",
   "version": "3.9.18"
  }
 },
 "nbformat": 4,
 "nbformat_minor": 2
}
