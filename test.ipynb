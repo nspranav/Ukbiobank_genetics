{
 "cells": [
  {
   "cell_type": "code",
   "execution_count": 1,
   "metadata": {},
   "outputs": [],
   "source": [
    "import pandas as pd\n",
    "import numpy as np"
   ]
  },
  {
   "cell_type": "code",
   "execution_count": 2,
   "metadata": {},
   "outputs": [],
   "source": [
    "gene_dataset = pd.read_csv('2023-06-16-10-44.txt',delimiter='\\t')"
   ]
  },
  {
   "cell_type": "code",
   "execution_count": 3,
   "metadata": {},
   "outputs": [
    {
     "data": {
      "text/plain": [
       "Index(['# ID(s) interactor A', 'ID(s) interactor B', 'Alt. ID(s) interactor A',\n",
       "       'Alt. ID(s) interactor B', 'Alias(es) interactor A',\n",
       "       'Alias(es) interactor B', 'Interaction detection method(s)',\n",
       "       'Publication 1st author(s)', 'Publication Identifier(s)',\n",
       "       'Taxid interactor A', 'Taxid interactor B', 'Interaction type(s)',\n",
       "       'Source database(s)', 'Interaction identifier(s)',\n",
       "       'Confidence value(s)'],\n",
       "      dtype='object')"
      ]
     },
     "execution_count": 3,
     "metadata": {},
     "output_type": "execute_result"
    }
   ],
   "source": [
    "gene_dataset.columns"
   ]
  },
  {
   "cell_type": "code",
   "execution_count": 4,
   "metadata": {},
   "outputs": [
    {
     "data": {
      "text/plain": [
       "18"
      ]
     },
     "execution_count": 4,
     "metadata": {},
     "output_type": "execute_result"
    }
   ],
   "source": [
    "sum(gene_dataset['# ID(s) interactor A'] == gene_dataset['ID(s) interactor B'])"
   ]
  },
  {
   "cell_type": "code",
   "execution_count": 5,
   "metadata": {},
   "outputs": [
    {
     "data": {
      "text/plain": [
       "223"
      ]
     },
     "execution_count": 5,
     "metadata": {},
     "output_type": "execute_result"
    }
   ],
   "source": [
    "len(gene_dataset['# ID(s) interactor A'].unique())"
   ]
  },
  {
   "cell_type": "code",
   "execution_count": 6,
   "metadata": {},
   "outputs": [
    {
     "data": {
      "text/plain": [
       "223"
      ]
     },
     "execution_count": 6,
     "metadata": {},
     "output_type": "execute_result"
    }
   ],
   "source": [
    "len(list(map(lambda x: (x.split(':')[1]).split('-')[0], gene_dataset['# ID(s) interactor A'].unique().tolist())))"
   ]
  },
  {
   "cell_type": "code",
   "execution_count": 7,
   "metadata": {},
   "outputs": [],
   "source": [
    "p_g = pd.read_csv('gProfiler_hsapiens_6-20-2023_4-00-56 PM.csv')"
   ]
  },
  {
   "cell_type": "code",
   "execution_count": 8,
   "metadata": {},
   "outputs": [
    {
     "data": {
      "text/plain": [
       "Index(['initial_alias', 'converted_alias', 'name', 'description', 'namespace'], dtype='object')"
      ]
     },
     "execution_count": 8,
     "metadata": {},
     "output_type": "execute_result"
    }
   ],
   "source": [
    "p_g.columns"
   ]
  },
  {
   "cell_type": "code",
   "execution_count": 9,
   "metadata": {},
   "outputs": [],
   "source": [
    "p_g = p_g.drop_duplicates(subset=['initial_alias'],keep='first')"
   ]
  },
  {
   "cell_type": "code",
   "execution_count": 10,
   "metadata": {},
   "outputs": [
    {
     "data": {
      "text/html": [
       "<div>\n",
       "<style scoped>\n",
       "    .dataframe tbody tr th:only-of-type {\n",
       "        vertical-align: middle;\n",
       "    }\n",
       "\n",
       "    .dataframe tbody tr th {\n",
       "        vertical-align: top;\n",
       "    }\n",
       "\n",
       "    .dataframe thead th {\n",
       "        text-align: right;\n",
       "    }\n",
       "</style>\n",
       "<table border=\"1\" class=\"dataframe\">\n",
       "  <thead>\n",
       "    <tr style=\"text-align: right;\">\n",
       "      <th></th>\n",
       "      <th>initial_alias</th>\n",
       "      <th>converted_alias</th>\n",
       "      <th>name</th>\n",
       "      <th>description</th>\n",
       "      <th>namespace</th>\n",
       "    </tr>\n",
       "  </thead>\n",
       "  <tbody>\n",
       "    <tr>\n",
       "      <th>0</th>\n",
       "      <td>P05067</td>\n",
       "      <td>ENSG00000142192</td>\n",
       "      <td>APP</td>\n",
       "      <td>amyloid beta precursor protein [Source:HGNC Sy...</td>\n",
       "      <td>UNIPROTSWISSPROT_ACC,UNIPROT_GN_ACC</td>\n",
       "    </tr>\n",
       "    <tr>\n",
       "      <th>30</th>\n",
       "      <td>P49768</td>\n",
       "      <td>ENSG00000080815</td>\n",
       "      <td>PSEN1</td>\n",
       "      <td>presenilin 1 [Source:HGNC Symbol;Acc:HGNC:9508]</td>\n",
       "      <td>UNIPROTSWISSPROT_ACC,UNIPROT_GN_ACC</td>\n",
       "    </tr>\n",
       "    <tr>\n",
       "      <th>104</th>\n",
       "      <td>P54253</td>\n",
       "      <td>ENSG00000124788</td>\n",
       "      <td>ATXN1</td>\n",
       "      <td>ataxin 1 [Source:HGNC Symbol;Acc:HGNC:10548]</td>\n",
       "      <td>UNIPROTSWISSPROT_ACC,UNIPROT_GN_ACC</td>\n",
       "    </tr>\n",
       "    <tr>\n",
       "      <th>151</th>\n",
       "      <td>P42858</td>\n",
       "      <td>ENSG00000197386</td>\n",
       "      <td>HTT</td>\n",
       "      <td>huntingtin [Source:HGNC Symbol;Acc:HGNC:4851]</td>\n",
       "      <td>UNIPROTSWISSPROT_ACC,UNIPROT_GN_ACC</td>\n",
       "    </tr>\n",
       "    <tr>\n",
       "      <th>270</th>\n",
       "      <td>O14672</td>\n",
       "      <td>ENSG00000137845</td>\n",
       "      <td>ADAM10</td>\n",
       "      <td>ADAM metallopeptidase domain 10 [Source:HGNC S...</td>\n",
       "      <td>UNIPROTSWISSPROT_ACC,UNIPROT_GN_ACC</td>\n",
       "    </tr>\n",
       "    <tr>\n",
       "      <th>...</th>\n",
       "      <td>...</td>\n",
       "      <td>...</td>\n",
       "      <td>...</td>\n",
       "      <td>...</td>\n",
       "      <td>...</td>\n",
       "    </tr>\n",
       "    <tr>\n",
       "      <th>3237</th>\n",
       "      <td>P43116</td>\n",
       "      <td>ENSG00000125384</td>\n",
       "      <td>PTGER2</td>\n",
       "      <td>prostaglandin E receptor 2 [Source:HGNC Symbol...</td>\n",
       "      <td>UNIPROTSWISSPROT_ACC,UNIPROT_GN_ACC</td>\n",
       "    </tr>\n",
       "    <tr>\n",
       "      <th>3245</th>\n",
       "      <td>P53805</td>\n",
       "      <td>ENSG00000159200</td>\n",
       "      <td>RCAN1</td>\n",
       "      <td>regulator of calcineurin 1 [Source:HGNC Symbol...</td>\n",
       "      <td>UNIPROTSWISSPROT_ACC,UNIPROT_GN_ACC</td>\n",
       "    </tr>\n",
       "    <tr>\n",
       "      <th>3264</th>\n",
       "      <td>Q96L34</td>\n",
       "      <td>ENSG00000007047</td>\n",
       "      <td>MARK4</td>\n",
       "      <td>microtubule affinity regulating kinase 4 [Sour...</td>\n",
       "      <td>UNIPROTSWISSPROT_ACC,UNIPROT_GN_ACC</td>\n",
       "    </tr>\n",
       "    <tr>\n",
       "      <th>3269</th>\n",
       "      <td>Q7KZI7</td>\n",
       "      <td>ENSG00000072518</td>\n",
       "      <td>MARK2</td>\n",
       "      <td>microtubule affinity regulating kinase 2 [Sour...</td>\n",
       "      <td>UNIPROTSWISSPROT_ACC,UNIPROT_GN_ACC</td>\n",
       "    </tr>\n",
       "    <tr>\n",
       "      <th>3271</th>\n",
       "      <td>Q9P0L2</td>\n",
       "      <td>ENSG00000116141</td>\n",
       "      <td>MARK1</td>\n",
       "      <td>microtubule affinity regulating kinase 1 [Sour...</td>\n",
       "      <td>UNIPROTSWISSPROT_ACC,UNIPROT_GN_ACC</td>\n",
       "    </tr>\n",
       "  </tbody>\n",
       "</table>\n",
       "<p>209 rows × 5 columns</p>\n",
       "</div>"
      ],
      "text/plain": [
       "     initial_alias  converted_alias    name  \\\n",
       "0           P05067  ENSG00000142192     APP   \n",
       "30          P49768  ENSG00000080815   PSEN1   \n",
       "104         P54253  ENSG00000124788   ATXN1   \n",
       "151         P42858  ENSG00000197386     HTT   \n",
       "270         O14672  ENSG00000137845  ADAM10   \n",
       "...            ...              ...     ...   \n",
       "3237        P43116  ENSG00000125384  PTGER2   \n",
       "3245        P53805  ENSG00000159200   RCAN1   \n",
       "3264        Q96L34  ENSG00000007047   MARK4   \n",
       "3269        Q7KZI7  ENSG00000072518   MARK2   \n",
       "3271        Q9P0L2  ENSG00000116141   MARK1   \n",
       "\n",
       "                                            description  \\\n",
       "0     amyloid beta precursor protein [Source:HGNC Sy...   \n",
       "30      presenilin 1 [Source:HGNC Symbol;Acc:HGNC:9508]   \n",
       "104        ataxin 1 [Source:HGNC Symbol;Acc:HGNC:10548]   \n",
       "151       huntingtin [Source:HGNC Symbol;Acc:HGNC:4851]   \n",
       "270   ADAM metallopeptidase domain 10 [Source:HGNC S...   \n",
       "...                                                 ...   \n",
       "3237  prostaglandin E receptor 2 [Source:HGNC Symbol...   \n",
       "3245  regulator of calcineurin 1 [Source:HGNC Symbol...   \n",
       "3264  microtubule affinity regulating kinase 4 [Sour...   \n",
       "3269  microtubule affinity regulating kinase 2 [Sour...   \n",
       "3271  microtubule affinity regulating kinase 1 [Sour...   \n",
       "\n",
       "                                namespace  \n",
       "0     UNIPROTSWISSPROT_ACC,UNIPROT_GN_ACC  \n",
       "30    UNIPROTSWISSPROT_ACC,UNIPROT_GN_ACC  \n",
       "104   UNIPROTSWISSPROT_ACC,UNIPROT_GN_ACC  \n",
       "151   UNIPROTSWISSPROT_ACC,UNIPROT_GN_ACC  \n",
       "270   UNIPROTSWISSPROT_ACC,UNIPROT_GN_ACC  \n",
       "...                                   ...  \n",
       "3237  UNIPROTSWISSPROT_ACC,UNIPROT_GN_ACC  \n",
       "3245  UNIPROTSWISSPROT_ACC,UNIPROT_GN_ACC  \n",
       "3264  UNIPROTSWISSPROT_ACC,UNIPROT_GN_ACC  \n",
       "3269  UNIPROTSWISSPROT_ACC,UNIPROT_GN_ACC  \n",
       "3271  UNIPROTSWISSPROT_ACC,UNIPROT_GN_ACC  \n",
       "\n",
       "[209 rows x 5 columns]"
      ]
     },
     "execution_count": 10,
     "metadata": {},
     "output_type": "execute_result"
    }
   ],
   "source": [
    "p_g"
   ]
  },
  {
   "cell_type": "code",
   "execution_count": 11,
   "metadata": {},
   "outputs": [],
   "source": [
    "p_g = p_g.drop_duplicates(subset=['converted_alias'],keep='first')"
   ]
  },
  {
   "cell_type": "code",
   "execution_count": 12,
   "metadata": {},
   "outputs": [
    {
     "data": {
      "text/plain": [
       "199"
      ]
     },
     "execution_count": 12,
     "metadata": {},
     "output_type": "execute_result"
    }
   ],
   "source": [
    "len(p_g['converted_alias'].unique().tolist())"
   ]
  },
  {
   "cell_type": "code",
   "execution_count": 14,
   "metadata": {},
   "outputs": [
    {
     "data": {
      "text/plain": [
       "['P05067',\n",
       " 'P49768',\n",
       " 'P54253',\n",
       " 'P42858',\n",
       " 'O14672',\n",
       " 'O95858',\n",
       " 'P48509',\n",
       " 'Q9NZC2',\n",
       " 'P21926',\n",
       " 'P02649',\n",
       " 'O60260',\n",
       " 'P56817',\n",
       " 'P26006',\n",
       " 'Q15233',\n",
       " 'Q9NSC5',\n",
       " 'Q14596',\n",
       " 'O75955',\n",
       " 'P19075',\n",
       " 'Q9NZV6',\n",
       " 'Q9P2B2',\n",
       " 'P62079',\n",
       " 'Q8NG11',\n",
       " 'P10636',\n",
       " 'Q9NQG6',\n",
       " 'Q92542',\n",
       " 'Q9GZY8',\n",
       " 'Q8TB24',\n",
       " 'Q9Y3D6',\n",
       " 'O95793',\n",
       " 'Q03721',\n",
       " 'Q16820',\n",
       " 'Q96C03',\n",
       " 'Q9Y5K6',\n",
       " 'O00499',\n",
       " 'P49810',\n",
       " 'Q16543',\n",
       " 'Q9BQ95',\n",
       " 'O14879',\n",
       " 'P29474',\n",
       " 'Q53EL6',\n",
       " 'Q07266',\n",
       " 'Q9NP59',\n",
       " 'Q92947',\n",
       " 'O75069',\n",
       " 'P07237',\n",
       " 'P50502',\n",
       " 'P04156',\n",
       " 'P06241',\n",
       " 'Q5S007',\n",
       " 'Q14254',\n",
       " 'O75251',\n",
       " 'P61764',\n",
       " 'Q9UL51',\n",
       " 'P78357',\n",
       " 'Q96QE2',\n",
       " 'O75110',\n",
       " 'Q9UIK5',\n",
       " 'P17677',\n",
       " 'P11169',\n",
       " 'P21796',\n",
       " 'Q08752',\n",
       " 'P37840',\n",
       " 'Q96LT7',\n",
       " 'P25311',\n",
       " 'Q06830',\n",
       " 'P36544',\n",
       " 'O43914',\n",
       " 'Q8TEV9',\n",
       " 'Q494W8',\n",
       " 'Q13526',\n",
       " 'Q8IU99',\n",
       " 'P46779',\n",
       " 'Q96DH6',\n",
       " 'O00429',\n",
       " 'Q9BRK4',\n",
       " 'Q15418',\n",
       " 'P13489',\n",
       " 'Q9Y6D9',\n",
       " 'Q93034',\n",
       " 'O43736',\n",
       " 'Q99944',\n",
       " 'Q07817',\n",
       " 'Q8WW43',\n",
       " 'Q9Y333',\n",
       " 'Q96EW2',\n",
       " 'Q96RU7',\n",
       " 'Q05516',\n",
       " 'Q9BX82',\n",
       " 'P50552',\n",
       " 'Q13371',\n",
       " 'Q96BI3',\n",
       " 'Q13200',\n",
       " 'P12931',\n",
       " 'Q9NPJ8',\n",
       " 'P04271',\n",
       " 'Q16637',\n",
       " 'Q9UHY8',\n",
       " 'Q14155',\n",
       " 'Q92613',\n",
       " 'Q14203',\n",
       " 'Q9Y5Y5',\n",
       " 'Q13148',\n",
       " 'Q14957',\n",
       " 'P00441',\n",
       " 'O95256',\n",
       " 'O75791',\n",
       " 'Q9P0L0',\n",
       " 'Q8NDC0',\n",
       " 'O96011',\n",
       " 'Q96JC9',\n",
       " 'O14964',\n",
       " 'Q9H2G9',\n",
       " 'Q9Y5S9',\n",
       " 'Q96Q42',\n",
       " 'P56589',\n",
       " 'Q9UBB5',\n",
       " 'Q6DN90',\n",
       " 'P78396',\n",
       " 'Q8N5U6',\n",
       " 'Q96CM3',\n",
       " 'Q9BQY4',\n",
       " 'Q96IT1',\n",
       " 'P53990',\n",
       " 'Q6ZNH5',\n",
       " 'Q9BYM8',\n",
       " 'Q99504',\n",
       " 'Q14919',\n",
       " 'Q6P4D5',\n",
       " 'Q16520',\n",
       " 'P52298',\n",
       " 'P68400',\n",
       " 'Q8N9W6',\n",
       " 'O43257',\n",
       " 'O00635',\n",
       " 'P53672',\n",
       " 'Q7Z7K6',\n",
       " 'Q00534',\n",
       " 'Q7L804',\n",
       " 'Q13643',\n",
       " 'Q5TB80',\n",
       " 'Q8NDH6',\n",
       " 'P50402',\n",
       " 'Q99547',\n",
       " 'Q96M91',\n",
       " 'Q8NA23',\n",
       " 'Q495M9',\n",
       " 'Q15717',\n",
       " 'P35638',\n",
       " 'Q8N895',\n",
       " 'O15287',\n",
       " 'P10073',\n",
       " 'Q9BT88',\n",
       " 'Q9NVF7',\n",
       " 'O43298',\n",
       " 'Q14687',\n",
       " 'Q6P9H5',\n",
       " 'P63098',\n",
       " 'Q9UPY8',\n",
       " 'P57052',\n",
       " 'Q9NQ11',\n",
       " 'Q9BZ95',\n",
       " 'Q9UHR5',\n",
       " 'P62993',\n",
       " 'Q9HD47',\n",
       " 'P50281',\n",
       " 'Q6PF15',\n",
       " 'P20700',\n",
       " 'Q9NSA1',\n",
       " 'Q15046',\n",
       " 'P11142',\n",
       " 'Q9Y2M5',\n",
       " 'P01100',\n",
       " 'P12004',\n",
       " 'Q9H0C5',\n",
       " 'O14976',\n",
       " 'P49841',\n",
       " 'P00450',\n",
       " 'Q9Y2A7',\n",
       " 'Q9UBN7',\n",
       " 'P07339',\n",
       " 'P15313',\n",
       " 'P63104',\n",
       " 'Q16643',\n",
       " 'P61073',\n",
       " 'P09471',\n",
       " 'P60484',\n",
       " 'Q9NZ42',\n",
       " 'P46089',\n",
       " 'Q9NRW1',\n",
       " 'P20340',\n",
       " 'Q02410',\n",
       " 'P49407',\n",
       " 'P11229',\n",
       " 'P32121',\n",
       " 'P43116',\n",
       " 'P53805',\n",
       " 'Q96L34',\n",
       " 'Q7KZI7',\n",
       " 'Q9P0L2']"
      ]
     },
     "execution_count": 14,
     "metadata": {},
     "output_type": "execute_result"
    }
   ],
   "source": [
    "p_g['initial_alias'].unique().tolist()"
   ]
  }
 ],
 "metadata": {
  "kernelspec": {
   "display_name": "workinglatest",
   "language": "python",
   "name": "python3"
  },
  "language_info": {
   "codemirror_mode": {
    "name": "ipython",
    "version": 3
   },
   "file_extension": ".py",
   "mimetype": "text/x-python",
   "name": "python",
   "nbconvert_exporter": "python",
   "pygments_lexer": "ipython3",
   "version": "3.9.16"
  },
  "orig_nbformat": 4
 },
 "nbformat": 4,
 "nbformat_minor": 2
}
