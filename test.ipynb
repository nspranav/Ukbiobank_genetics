{
 "cells": [
  {
   "cell_type": "code",
   "execution_count": 1,
   "metadata": {},
   "outputs": [],
   "source": [
    "import pandas as pd\n",
    "import numpy as np"
   ]
  },
  {
   "cell_type": "code",
   "execution_count": 43,
   "metadata": {},
   "outputs": [],
   "source": [
    "gene_dataset = pd.read_csv('2023-06-16-10-44.txt',delimiter='\\t')"
   ]
  },
  {
   "cell_type": "code",
   "execution_count": 44,
   "metadata": {},
   "outputs": [
    {
     "data": {
      "text/plain": [
       "Index(['# ID(s) interactor A', 'ID(s) interactor B', 'Alt. ID(s) interactor A',\n",
       "       'Alt. ID(s) interactor B', 'Alias(es) interactor A',\n",
       "       'Alias(es) interactor B', 'Interaction detection method(s)',\n",
       "       'Publication 1st author(s)', 'Publication Identifier(s)',\n",
       "       'Taxid interactor A', 'Taxid interactor B', 'Interaction type(s)',\n",
       "       'Source database(s)', 'Interaction identifier(s)',\n",
       "       'Confidence value(s)'],\n",
       "      dtype='object')"
      ]
     },
     "execution_count": 44,
     "metadata": {},
     "output_type": "execute_result"
    }
   ],
   "source": [
    "gene_dataset.columns"
   ]
  },
  {
   "cell_type": "code",
   "execution_count": 45,
   "metadata": {},
   "outputs": [
    {
     "data": {
      "text/plain": [
       "18"
      ]
     },
     "execution_count": 45,
     "metadata": {},
     "output_type": "execute_result"
    }
   ],
   "source": [
    "sum(gene_dataset['# ID(s) interactor A'] == gene_dataset['ID(s) interactor B'])"
   ]
  },
  {
   "cell_type": "code",
   "execution_count": 46,
   "metadata": {},
   "outputs": [
    {
     "data": {
      "text/plain": [
       "223"
      ]
     },
     "execution_count": 46,
     "metadata": {},
     "output_type": "execute_result"
    }
   ],
   "source": [
    "len(gene_dataset['# ID(s) interactor A'].unique())"
   ]
  },
  {
   "cell_type": "code",
   "execution_count": 47,
   "metadata": {},
   "outputs": [
    {
     "data": {
      "text/plain": [
       "223"
      ]
     },
     "execution_count": 47,
     "metadata": {},
     "output_type": "execute_result"
    }
   ],
   "source": [
    "len(list(map(lambda x: (x.split(':')[1]).split('-')[0], gene_dataset['# ID(s) interactor A'].unique().tolist())))"
   ]
  },
  {
   "cell_type": "code",
   "execution_count": 48,
   "metadata": {},
   "outputs": [],
   "source": [
    "p_g = pd.read_csv('gProfiler_hsapiens_6-20-2023_4-00-56 PM.csv')"
   ]
  },
  {
   "cell_type": "code",
   "execution_count": 49,
   "metadata": {},
   "outputs": [
    {
     "data": {
      "text/plain": [
       "Index(['initial_alias', 'converted_alias', 'name', 'description', 'namespace'], dtype='object')"
      ]
     },
     "execution_count": 49,
     "metadata": {},
     "output_type": "execute_result"
    }
   ],
   "source": [
    "p_g.columns"
   ]
  },
  {
   "cell_type": "code",
   "execution_count": 34,
   "metadata": {},
   "outputs": [],
   "source": [
    "p_g = p_g.drop_duplicates(subset=['initial_alias'],keep='first')"
   ]
  },
  {
   "cell_type": "code",
   "execution_count": 35,
   "metadata": {},
   "outputs": [
    {
     "data": {
      "text/html": [
       "<div>\n",
       "<style scoped>\n",
       "    .dataframe tbody tr th:only-of-type {\n",
       "        vertical-align: middle;\n",
       "    }\n",
       "\n",
       "    .dataframe tbody tr th {\n",
       "        vertical-align: top;\n",
       "    }\n",
       "\n",
       "    .dataframe thead th {\n",
       "        text-align: right;\n",
       "    }\n",
       "</style>\n",
       "<table border=\"1\" class=\"dataframe\">\n",
       "  <thead>\n",
       "    <tr style=\"text-align: right;\">\n",
       "      <th></th>\n",
       "      <th>initial_alias</th>\n",
       "      <th>converted_alias</th>\n",
       "      <th>name</th>\n",
       "      <th>description</th>\n",
       "      <th>namespace</th>\n",
       "    </tr>\n",
       "  </thead>\n",
       "  <tbody>\n",
       "    <tr>\n",
       "      <th>0</th>\n",
       "      <td>P05067</td>\n",
       "      <td>ENSG00000142192</td>\n",
       "      <td>APP</td>\n",
       "      <td>amyloid beta precursor protein [Source:HGNC Sy...</td>\n",
       "      <td>UNIPROTSWISSPROT_ACC,UNIPROT_GN_ACC</td>\n",
       "    </tr>\n",
       "    <tr>\n",
       "      <th>30</th>\n",
       "      <td>P49768</td>\n",
       "      <td>ENSG00000080815</td>\n",
       "      <td>PSEN1</td>\n",
       "      <td>presenilin 1 [Source:HGNC Symbol;Acc:HGNC:9508]</td>\n",
       "      <td>UNIPROTSWISSPROT_ACC,UNIPROT_GN_ACC</td>\n",
       "    </tr>\n",
       "    <tr>\n",
       "      <th>104</th>\n",
       "      <td>P54253</td>\n",
       "      <td>ENSG00000124788</td>\n",
       "      <td>ATXN1</td>\n",
       "      <td>ataxin 1 [Source:HGNC Symbol;Acc:HGNC:10548]</td>\n",
       "      <td>UNIPROTSWISSPROT_ACC,UNIPROT_GN_ACC</td>\n",
       "    </tr>\n",
       "    <tr>\n",
       "      <th>151</th>\n",
       "      <td>P42858</td>\n",
       "      <td>ENSG00000197386</td>\n",
       "      <td>HTT</td>\n",
       "      <td>huntingtin [Source:HGNC Symbol;Acc:HGNC:4851]</td>\n",
       "      <td>UNIPROTSWISSPROT_ACC,UNIPROT_GN_ACC</td>\n",
       "    </tr>\n",
       "    <tr>\n",
       "      <th>270</th>\n",
       "      <td>O14672</td>\n",
       "      <td>ENSG00000137845</td>\n",
       "      <td>ADAM10</td>\n",
       "      <td>ADAM metallopeptidase domain 10 [Source:HGNC S...</td>\n",
       "      <td>UNIPROTSWISSPROT_ACC,UNIPROT_GN_ACC</td>\n",
       "    </tr>\n",
       "    <tr>\n",
       "      <th>...</th>\n",
       "      <td>...</td>\n",
       "      <td>...</td>\n",
       "      <td>...</td>\n",
       "      <td>...</td>\n",
       "      <td>...</td>\n",
       "    </tr>\n",
       "    <tr>\n",
       "      <th>3237</th>\n",
       "      <td>P43116</td>\n",
       "      <td>ENSG00000125384</td>\n",
       "      <td>PTGER2</td>\n",
       "      <td>prostaglandin E receptor 2 [Source:HGNC Symbol...</td>\n",
       "      <td>UNIPROTSWISSPROT_ACC,UNIPROT_GN_ACC</td>\n",
       "    </tr>\n",
       "    <tr>\n",
       "      <th>3245</th>\n",
       "      <td>P53805</td>\n",
       "      <td>ENSG00000159200</td>\n",
       "      <td>RCAN1</td>\n",
       "      <td>regulator of calcineurin 1 [Source:HGNC Symbol...</td>\n",
       "      <td>UNIPROTSWISSPROT_ACC,UNIPROT_GN_ACC</td>\n",
       "    </tr>\n",
       "    <tr>\n",
       "      <th>3264</th>\n",
       "      <td>Q96L34</td>\n",
       "      <td>ENSG00000007047</td>\n",
       "      <td>MARK4</td>\n",
       "      <td>microtubule affinity regulating kinase 4 [Sour...</td>\n",
       "      <td>UNIPROTSWISSPROT_ACC,UNIPROT_GN_ACC</td>\n",
       "    </tr>\n",
       "    <tr>\n",
       "      <th>3269</th>\n",
       "      <td>Q7KZI7</td>\n",
       "      <td>ENSG00000072518</td>\n",
       "      <td>MARK2</td>\n",
       "      <td>microtubule affinity regulating kinase 2 [Sour...</td>\n",
       "      <td>UNIPROTSWISSPROT_ACC,UNIPROT_GN_ACC</td>\n",
       "    </tr>\n",
       "    <tr>\n",
       "      <th>3271</th>\n",
       "      <td>Q9P0L2</td>\n",
       "      <td>ENSG00000116141</td>\n",
       "      <td>MARK1</td>\n",
       "      <td>microtubule affinity regulating kinase 1 [Sour...</td>\n",
       "      <td>UNIPROTSWISSPROT_ACC,UNIPROT_GN_ACC</td>\n",
       "    </tr>\n",
       "  </tbody>\n",
       "</table>\n",
       "<p>209 rows × 5 columns</p>\n",
       "</div>"
      ],
      "text/plain": [
       "     initial_alias  converted_alias    name  \\\n",
       "0           P05067  ENSG00000142192     APP   \n",
       "30          P49768  ENSG00000080815   PSEN1   \n",
       "104         P54253  ENSG00000124788   ATXN1   \n",
       "151         P42858  ENSG00000197386     HTT   \n",
       "270         O14672  ENSG00000137845  ADAM10   \n",
       "...            ...              ...     ...   \n",
       "3237        P43116  ENSG00000125384  PTGER2   \n",
       "3245        P53805  ENSG00000159200   RCAN1   \n",
       "3264        Q96L34  ENSG00000007047   MARK4   \n",
       "3269        Q7KZI7  ENSG00000072518   MARK2   \n",
       "3271        Q9P0L2  ENSG00000116141   MARK1   \n",
       "\n",
       "                                            description  \\\n",
       "0     amyloid beta precursor protein [Source:HGNC Sy...   \n",
       "30      presenilin 1 [Source:HGNC Symbol;Acc:HGNC:9508]   \n",
       "104        ataxin 1 [Source:HGNC Symbol;Acc:HGNC:10548]   \n",
       "151       huntingtin [Source:HGNC Symbol;Acc:HGNC:4851]   \n",
       "270   ADAM metallopeptidase domain 10 [Source:HGNC S...   \n",
       "...                                                 ...   \n",
       "3237  prostaglandin E receptor 2 [Source:HGNC Symbol...   \n",
       "3245  regulator of calcineurin 1 [Source:HGNC Symbol...   \n",
       "3264  microtubule affinity regulating kinase 4 [Sour...   \n",
       "3269  microtubule affinity regulating kinase 2 [Sour...   \n",
       "3271  microtubule affinity regulating kinase 1 [Sour...   \n",
       "\n",
       "                                namespace  \n",
       "0     UNIPROTSWISSPROT_ACC,UNIPROT_GN_ACC  \n",
       "30    UNIPROTSWISSPROT_ACC,UNIPROT_GN_ACC  \n",
       "104   UNIPROTSWISSPROT_ACC,UNIPROT_GN_ACC  \n",
       "151   UNIPROTSWISSPROT_ACC,UNIPROT_GN_ACC  \n",
       "270   UNIPROTSWISSPROT_ACC,UNIPROT_GN_ACC  \n",
       "...                                   ...  \n",
       "3237  UNIPROTSWISSPROT_ACC,UNIPROT_GN_ACC  \n",
       "3245  UNIPROTSWISSPROT_ACC,UNIPROT_GN_ACC  \n",
       "3264  UNIPROTSWISSPROT_ACC,UNIPROT_GN_ACC  \n",
       "3269  UNIPROTSWISSPROT_ACC,UNIPROT_GN_ACC  \n",
       "3271  UNIPROTSWISSPROT_ACC,UNIPROT_GN_ACC  \n",
       "\n",
       "[209 rows x 5 columns]"
      ]
     },
     "execution_count": 35,
     "metadata": {},
     "output_type": "execute_result"
    }
   ],
   "source": [
    "p_g"
   ]
  },
  {
   "cell_type": "code",
   "execution_count": 39,
   "metadata": {},
   "outputs": [],
   "source": [
    "p_g = p_g.drop_duplicates(subset=['converted_alias'],keep='first')"
   ]
  },
  {
   "cell_type": "code",
   "execution_count": 40,
   "metadata": {},
   "outputs": [
    {
     "data": {
      "text/plain": [
       "199"
      ]
     },
     "execution_count": 40,
     "metadata": {},
     "output_type": "execute_result"
    }
   ],
   "source": [
    "len(p_g['converted_alias'].unique().tolist())"
   ]
  },
  {
   "cell_type": "code",
   "execution_count": 41,
   "metadata": {},
   "outputs": [
    {
     "data": {
      "text/plain": [
       "199"
      ]
     },
     "execution_count": 41,
     "metadata": {},
     "output_type": "execute_result"
    }
   ],
   "source": [
    "len(p_g['initial_alias'].unique().tolist())"
   ]
  }
 ],
 "metadata": {
  "kernelspec": {
   "display_name": "workinglatest",
   "language": "python",
   "name": "python3"
  },
  "language_info": {
   "codemirror_mode": {
    "name": "ipython",
    "version": 3
   },
   "file_extension": ".py",
   "mimetype": "text/x-python",
   "name": "python",
   "nbconvert_exporter": "python",
   "pygments_lexer": "ipython3",
   "version": "3.9.16"
  },
  "orig_nbformat": 4
 },
 "nbformat": 4,
 "nbformat_minor": 2
}
